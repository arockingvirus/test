{
  "nbformat": 4,
  "nbformat_minor": 0,
  "metadata": {
    "colab": {
      "name": "pinto_algorithm.ipynb",
      "provenance": [],
      "collapsed_sections": [],
      "include_colab_link": true
    },
    "kernelspec": {
      "display_name": "Python 3",
      "language": "python",
      "name": "python3"
    },
    "language_info": {
      "codemirror_mode": {
        "name": "ipython",
        "version": 3
      },
      "file_extension": ".py",
      "mimetype": "text/x-python",
      "name": "python",
      "nbconvert_exporter": "python",
      "pygments_lexer": "ipython3",
      "version": "3.8.5"
    }
  },
  "cells": [
    {
      "cell_type": "markdown",
      "metadata": {
        "id": "view-in-github",
        "colab_type": "text"
      },
      "source": [
        "<a href=\"https://colab.research.google.com/github/arockingvirus/test/blob/master/pinto_algorithm.ipynb\" target=\"_parent\"><img src=\"https://colab.research.google.com/assets/colab-badge.svg\" alt=\"Open In Colab\"/></a>"
      ]
    },
    {
      "cell_type": "markdown",
      "metadata": {
        "id": "Qt6C-MIZqo8D"
      },
      "source": [
        "<font color = red> PTVA Algorithm"
      ]
    },
    {
      "cell_type": "markdown",
      "metadata": {
        "id": "4ZumL7pX5w_9"
      },
      "source": [
        "import community as community_louvain\n",
        "import matplotlib.cm as cm\n",
        "import matplotlib.pyplot as plt\n",
        "import networkx as nx\n",
        "import pandas as pd\n",
        "import numpy as np\n",
        "import random\n",
        "import ndlib.models.ModelConfig as mc\n",
        "import ndlib.models.epidemics as ep\n",
        "import matplotlib.pyplot as plt\n",
        "import pprint\n",
        "\n",
        "G=nx.Graph()\n",
        "# gr=pd.read_csv('karate.csv')\n",
        "#gr=pd.read_csv('dolphin.csv')\n",
        "gr=pd.read_csv(\"/content/drive/MyDrive/Colab Notebooks/football.csv\")\n",
        "edge=[(gr['Source'][i],gr['Destination'][i]) for i in range(0,len(gr['Source']))]\n",
        "G.add_edges_from(edge)\n",
        "node=max([max(x[0],x[1]) for x in edge])\n",
        "# compute the best partition\n",
        "# partition contains color of each node\n",
        "partition = community_louvain.best_partition(G)\n",
        "\n",
        "# visualization of clusters\n",
        "pos = nx.spring_layout(G)\n",
        "cmap = cm.get_cmap('viridis', max(partition.values()) + 1)\n",
        "nx.draw_networkx_nodes(G, pos, partition.keys(), node_size=200,cmap=cmap, node_color=list(partition.values()),)\n",
        "nx.draw_networkx_edges(G, pos, alpha=0.5)\n",
        "plt.show()"
      ]
    },
    {
      "cell_type": "code",
      "metadata": {
        "id": "8l28Jj2pqo8S",
        "colab": {
          "base_uri": "https://localhost:8080/",
          "height": 389
        },
        "outputId": "62972c72-672b-4169-db49-d6344f705b32"
      },
      "source": [
        "import community as community_louvain\n",
        "import matplotlib.cm as cm\n",
        "import matplotlib.pyplot as plt\n",
        "import networkx as nx\n",
        "import pandas as pd\n",
        "import numpy as np\n",
        "import random\n",
        "import ndlib.models.ModelConfig as mc\n",
        "import ndlib.models.epidemics as ep\n",
        "import matplotlib.pyplot as plt\n",
        "import pprint"
      ],
      "execution_count": null,
      "outputs": [
        {
          "output_type": "error",
          "ename": "ModuleNotFoundError",
          "evalue": "ignored",
          "traceback": [
            "\u001b[0;31m---------------------------------------------------------------------------\u001b[0m",
            "\u001b[0;31mModuleNotFoundError\u001b[0m                       Traceback (most recent call last)",
            "\u001b[0;32m<ipython-input-1-054c0a5c68fe>\u001b[0m in \u001b[0;36m<module>\u001b[0;34m()\u001b[0m\n\u001b[1;32m      6\u001b[0m \u001b[0;32mimport\u001b[0m \u001b[0mnumpy\u001b[0m \u001b[0;32mas\u001b[0m \u001b[0mnp\u001b[0m\u001b[0;34m\u001b[0m\u001b[0;34m\u001b[0m\u001b[0m\n\u001b[1;32m      7\u001b[0m \u001b[0;32mimport\u001b[0m \u001b[0mrandom\u001b[0m\u001b[0;34m\u001b[0m\u001b[0;34m\u001b[0m\u001b[0m\n\u001b[0;32m----> 8\u001b[0;31m \u001b[0;32mimport\u001b[0m \u001b[0mndlib\u001b[0m\u001b[0;34m.\u001b[0m\u001b[0mmodels\u001b[0m\u001b[0;34m.\u001b[0m\u001b[0mModelConfig\u001b[0m \u001b[0;32mas\u001b[0m \u001b[0mmc\u001b[0m\u001b[0;34m\u001b[0m\u001b[0;34m\u001b[0m\u001b[0m\n\u001b[0m\u001b[1;32m      9\u001b[0m \u001b[0;32mimport\u001b[0m \u001b[0mndlib\u001b[0m\u001b[0;34m.\u001b[0m\u001b[0mmodels\u001b[0m\u001b[0;34m.\u001b[0m\u001b[0mepidemics\u001b[0m \u001b[0;32mas\u001b[0m \u001b[0mep\u001b[0m\u001b[0;34m\u001b[0m\u001b[0;34m\u001b[0m\u001b[0m\n\u001b[1;32m     10\u001b[0m \u001b[0;32mimport\u001b[0m \u001b[0mmatplotlib\u001b[0m\u001b[0;34m.\u001b[0m\u001b[0mpyplot\u001b[0m \u001b[0;32mas\u001b[0m \u001b[0mplt\u001b[0m\u001b[0;34m\u001b[0m\u001b[0;34m\u001b[0m\u001b[0m\n",
            "\u001b[0;31mModuleNotFoundError\u001b[0m: No module named 'ndlib'",
            "",
            "\u001b[0;31m---------------------------------------------------------------------------\u001b[0;32m\nNOTE: If your import is failing due to a missing package, you can\nmanually install dependencies using either !pip or !apt.\n\nTo view examples of installing some common dependencies, click the\n\"Open Examples\" button below.\n\u001b[0;31m---------------------------------------------------------------------------\u001b[0m\n"
          ]
        }
      ]
    },
    {
      "cell_type": "code",
      "metadata": {
        "id": "lUO6oFOTqo8S"
      },
      "source": [
        "import collections\n",
        "import itertools\n",
        "#import matplotlib.pyplot as plt\n",
        "import networkx as nx\n",
        "import numpy as np\n",
        "import random\n",
        "import operator\n",
        "import math\n",
        "import networkx as nx\n",
        "import numpy as np\n",
        "## import PTVA_LI_2.source_est_tools as tl\n",
        "import operator\n",
        "import collections\n",
        "\n",
        "import scipy.stats as st\n",
        "from scipy.special import logsumexp"
      ],
      "execution_count": null,
      "outputs": []
    },
    {
      "cell_type": "code",
      "metadata": {
        "id": "diF-dkURqo8T"
      },
      "source": [
        "from scipy.special import logsumexp\n"
      ],
      "execution_count": null,
      "outputs": []
    },
    {
      "cell_type": "code",
      "metadata": {
        "id": "ZkoGETEmsDwb",
        "scrolled": true
      },
      "source": [
        "# Algorithms used for rumor source inference in a graph\n",
        "# - Pinto algorithm\n",
        "\n",
        "import networkx as nx\n",
        "import numpy\n",
        "# from numpy import matrix, array\n",
        "# from numpy import linalg\n",
        "import math\n",
        "import pandas as pd\n",
        "import matplotlib.pyplot as plt\n",
        "\n",
        "\n",
        "def observed_delay(g, O):\n",
        "    d = numpy.zeros(shape=(len(O) - 1, 1))\n",
        "    for i in range(len(O) - 1):\n",
        "        d[i][0] = g.nodes[O[i + 1]]['time'] - g.nodes[O[i]]['time']\n",
        "    return d\n",
        "\n",
        "\n",
        "def delay_covariance(T, O, sigma2):\n",
        "    \"\"\"\n",
        "    Computes lambda\n",
        "    :param T: tree\n",
        "    :param O: list of observers\n",
        "    :param sigma2: variance\n",
        "    :return:\n",
        "    \"\"\"\n",
        "    # TODO stop using all_simple_paths (complexity)\n",
        "    n = len(O)\n",
        "    delta = numpy.zeros(shape=(n - 1, n - 1))\n",
        "    T = T.to_undirected()\n",
        "    for k in range(n - 1):\n",
        "        for i in range(n - 1):\n",
        "            if i == k:\n",
        "                delta[k][i] = len(list(nx.all_simple_paths(T, O[0], O[k + 1]))[0]) - 1\n",
        "            else:\n",
        "                c1 = list(nx.all_simple_paths(T, O[0], O[k + 1]))[0]\n",
        "                c2 = list(nx.all_simple_paths(T, O[0], O[i + 1]))[0]\n",
        "                S = [x for x in c1 if x in c2]\n",
        "                delta[k][i] = len(S) - 1\n",
        "    delta = delta * (sigma2 ** 2)  # FIXME : square or not ?\n",
        "    return delta\n",
        "\n",
        "\n",
        "def deterministic_delay(T, s, O, mi):\n",
        "    \"\"\"\n",
        "    Computes mu_s\n",
        "    :param T: tree\n",
        "    :param s: source\n",
        "    :param O: list of observers\n",
        "    :param mi: mean\n",
        "    :return:\n",
        "    \"\"\"\n",
        "    constant = height_node(T, s, O[0])\n",
        "    mi_s = numpy.zeros(shape=(len(O) - 1, 1))\n",
        "    for i in range(len(O) - 1):\n",
        "        mi_s[i][0] = height_node(T, s, O[i + 1]) - constant\n",
        "    mi_s = mi * mi_s\n",
        "    return mi_s\n",
        "\n",
        "\n",
        "def height_node(T, s, node):\n",
        "    l = list(nx.all_simple_paths(T, s, node))\n",
        "    if l == []:\n",
        "        return 0\n",
        "    else:\n",
        "        return len(l[0]) - 1\n",
        "\n",
        "\n",
        "def run(g, O, mi, sigma2, k0):\n",
        "    \"\"\"\n",
        "    Main\n",
        "    :param g: graph\n",
        "    :param O: list of observers <<<< ACTIVE observers !\n",
        "    :param mi: mean\n",
        "    :param sigma2: variance\n",
        "    :return:\n",
        "    \"\"\"\n",
        "    # TODO : consider only active observers !\n",
        "    first_node = O[0]\n",
        "\n",
        "    # Compute the delay vector d relative to first_node\n",
        "    d = observed_delay(g, O)\n",
        "\n",
        "    # Score list of pair (node , score)\n",
        "    s = {}\n",
        "    # s=[(O[0],0)]\n",
        "\n",
        "    # initialise (node , score)\n",
        "    v = [O[0], 0]\n",
        "    flag = 0\n",
        "\n",
        "    # max score\n",
        "    s_max = 0\n",
        "\n",
        "    while v[1] >= s_max:\n",
        "        Tv = {}\n",
        "        Tv[v[0]] = 0\n",
        "        for n in g[v[0]]:\n",
        "            if n not in s.keys():\n",
        "                tree_bfs = nx.bfs_tree(g, source=first_node)\n",
        "                mu_s = deterministic_delay(tree_bfs, n, O, mi)\n",
        "                delta = delay_covariance(tree_bfs, O, sigma2)\n",
        "                inverse = numpy.linalg.inv(delta)\n",
        "                score = (numpy.exp(-.5 * numpy.dot(numpy.dot((d - mu_s).T, inverse), (d - mu_s)))) / (\n",
        "                    numpy.sqrt(abs(numpy.linalg.det(delta))))\n",
        "                Tv[n] = score[0][0]\n",
        "        if len(Tv) != 0:\n",
        "            neighbor_n = [a for a in g[v[0]]]\n",
        "\n",
        "            if v[0] not in Tv:\n",
        "                curr_score_node = s[v[0]]\n",
        "            else:\n",
        "                curr_score_node = Tv[v[0]]\n",
        "            curr_node = v[0]\n",
        "\n",
        "            change = 0\n",
        "\n",
        "            for a in neighbor_n:\n",
        "                if a in Tv:\n",
        "                    neigh_score_a = Tv[a]\n",
        "                else:\n",
        "                    continue\n",
        "\n",
        "                if curr_score_node < neigh_score_a:\n",
        "                    change = 1\n",
        "                    curr_node = a\n",
        "\n",
        "            if change != 0:\n",
        "                s.update(Tv)\n",
        "                v = [curr_node, s[curr_node]]\n",
        "                s_max = v[1]\n",
        "\n",
        "            else:\n",
        "                break\n",
        "\n",
        "        # end of if\n",
        "    # end of while\n",
        "\n",
        "    sorted_score = sorted(s.items(), key=lambda kv: kv[1], reverse=True)\n",
        "\n",
        "    print(\"The rumour source in order : \")\n",
        "    for a in range(3):\n",
        "        print(sorted_score[a][0], \"\\t\")\n",
        "\n",
        "    return s\n",
        "\n",
        "\n",
        "def from_pandas_dataframe(df, source, target, edge_attr=None, create_using=None):\n",
        "    g = nx.Graph()\n",
        "\n",
        "    # Index of source and target\n",
        "    src_i = df.columns.get_loc(source)\n",
        "    tar_i = df.columns.get_loc(target)\n",
        "    if edge_attr:\n",
        "        # If all additional columns requested, build up a list of tuples\n",
        "        # [(name, index),...]\n",
        "        if edge_attr is True:\n",
        "            # Create a list of all columns indices, ignore nodes\n",
        "            edge_i = []\n",
        "            for i, col in enumerate(df.columns):\n",
        "                if col is not source and col is not target:\n",
        "                    edge_i.append((col, i))\n",
        "        # If a list or tuple of name is requested\n",
        "        elif isinstance(edge_attr, (list, tuple)):\n",
        "            edge_i = [(i, df.columns.get_loc(i)) for i in edge_attr]\n",
        "        # If a string or int is passed\n",
        "        else:\n",
        "            edge_i = [(edge_attr, df.columns.get_loc(edge_attr)), ]\n",
        "\n",
        "        # Iteration on values returns the rows as Numpy arrays\n",
        "        for row in df.values:\n",
        "            g.add_edge(row[src_i], row[tar_i], {i: row[j] for i, j in edge_i})\n",
        "\n",
        "    # If no column names are given, then just return the edges.\n",
        "    else:\n",
        "        for row in df.values:\n",
        "            g.add_edge(row[src_i], row[tar_i])\n",
        "    return g\n",
        "\n",
        "\n",
        "\n",
        "\n",
        "####################################################################################\n",
        "numpy.random.seed(54)  # option for reproducibility---- 51,52,53,54,55,57,58,59\n",
        "filename = \"football\"\n",
        "df = pd.read_csv(\"/Users/sahajsingh/Downloads/football.csv\")\n",
        "df = df[[\"Source\", \"Destination\"]]\n",
        "g = from_pandas_dataframe(df, source='Source', target='Destination')\n",
        "nx.draw(g,with_labels = True)\n",
        "node_len = len(g.nodes)\n",
        "plt.savefig(filename+\"_PTVA1.png\")\n",
        "plt.show()\n",
        "# ############################################################ Change here\n",
        "k0 = math.ceil(math.sqrt(len(g)))\n",
        "\n",
        "\n"
      ],
      "execution_count": null,
      "outputs": []
    },
    {
      "cell_type": "code",
      "metadata": {
        "scrolled": false,
        "id": "f-VUwIGLqo8V"
      },
      "source": [
        "#G = nx.karate_club_graph()\n",
        "G=g\n",
        "timeOfDiffusions=[]\n",
        "# Model selection - diffusion time\n",
        "model = ep.SIModel(G)\n",
        "\n",
        "# Model Configuration\n",
        "cfg = mc.Configuration()\n",
        "cfg.add_model_parameter('beta', 0.03)\n",
        "cfg.add_model_parameter(\"fraction_infected\", 0.01)\n",
        "model.set_initial_status(cfg)\n",
        "\n",
        "# Simulation execution\n",
        "iterations = model.iteration_bunch(200)\n",
        "\n",
        "#Mapping diffusion_time_to_each_node\n",
        "time_of_diffusion={}\n",
        "for i in range(1,len(G)):\n",
        "    time_of_diffusion[i]=-1\n",
        "for i in iterations:\n",
        "    for j in i['status']:\n",
        "        if(i['status'][j]==1):\n",
        "            time_of_diffusion[j]=i['iteration']\n",
        "timeOfDiffusions.append(len(time_of_diffusion))"
      ],
      "execution_count": null,
      "outputs": []
    },
    {
      "cell_type": "code",
      "metadata": {
        "id": "f6VzHlxwqo8W"
      },
      "source": [
        "time_of_diffusion"
      ],
      "execution_count": null,
      "outputs": []
    },
    {
      "cell_type": "code",
      "metadata": {
        "id": "fCAH2wb_qo8W"
      },
      "source": [
        "sorted_values = sorted(time_of_diffusion.values()) # Sort the values\n",
        "sorted_dict = {}\n",
        "\n",
        "for i in sorted_values:\n",
        "    for k in time_of_diffusion.keys():\n",
        "        if time_of_diffusion[k] == i:\n",
        "            sorted_dict[k] = time_of_diffusion[k]\n",
        "\n",
        "print(sorted_dict)"
      ],
      "execution_count": null,
      "outputs": []
    },
    {
      "cell_type": "code",
      "metadata": {
        "id": "pGH1WS3vqo8X"
      },
      "source": [
        "j=0\n",
        "O = numpy.random.randint(low=1, high=len(G), size=k0).tolist()"
      ],
      "execution_count": null,
      "outputs": []
    },
    {
      "cell_type": "code",
      "metadata": {
        "id": "p16IqZz-qo8X"
      },
      "source": [
        "j=0\n",
        "t=[]\n",
        "for i in O:\n",
        "    if(time_of_diffusion[i]!=-1):\n",
        "        t.append(time_of_diffusion[i])"
      ],
      "execution_count": null,
      "outputs": []
    },
    {
      "cell_type": "code",
      "metadata": {
        "id": "Rin4yHuFqo8Y"
      },
      "source": [
        "O"
      ],
      "execution_count": null,
      "outputs": []
    },
    {
      "cell_type": "code",
      "metadata": {
        "id": "8FDw5eYOqo8Y"
      },
      "source": [
        "t"
      ],
      "execution_count": null,
      "outputs": []
    },
    {
      "cell_type": "code",
      "metadata": {
        "id": "F2PuIRXIqo8Y"
      },
      "source": [
        "# ###################################################################################\n",
        "# O = numpy.random.randint(low=1, high=node_len, size=k0).tolist()\n",
        "# t = numpy.random.uniform(low=0.000000001, high=6, size=k0).tolist()\n",
        "print(len(g.nodes))\n",
        "print(g.nodes)\n",
        "for a in range(0, k0):\n",
        "    g.nodes[O[a]]['time'] = t[a]\n",
        "mi = numpy.mean(t)\n",
        "sigma2 = numpy.var(t)\n",
        "\n",
        "# #####Running the algorithm:\n",
        "# run(g, O, mi, sigma2,k0)\n",
        "score = run(g, O, mi, sigma2, k0)\n",
        "score = sorted(score.items(), key=lambda kv: kv[1], reverse=True)\n",
        "score = [list(a)[0] for a in g.nodes(data=True)]\n",
        "\n",
        "# ################################# Coloring nodes\n",
        "node_color = []\n",
        "count = 0\n",
        "score_list = score[0:5]\n",
        "for i in range(1, node_len + 1):\n",
        "    # if the node has the attribute group1\n",
        "    # elif list(node)[0] in score[:5]:\n",
        "    if i in O:\n",
        "        node_color.append('green')\n",
        "    elif i in score_list:\n",
        "        node_color.append('red')\n",
        "    elif 5 == 5:\n",
        "        count = count + 1\n",
        "        node_color.append('black')\n",
        "nx.draw(g,with_labels = True, node_size=200, node_color=node_color,\n",
        "        alpha=1, linewidths=0.5, width=0.5, edge_color='black')\n",
        "plt.savefig(filename+\"_PTVA.png\")\n",
        "plt.show()"
      ],
      "execution_count": null,
      "outputs": []
    },
    {
      "cell_type": "code",
      "metadata": {
        "id": "jZm-cE9nqo8Z"
      },
      "source": [
        "def accuracy(source_node,predicted_set,score_set):\n",
        "    a = []\n",
        "    for i in predicted_set:\n",
        "        for j in true_set:\n",
        "            if i==j:\n",
        "                a.append(1/score_set[i])\n",
        "                print(score_set[i])\n",
        "    acc = numpy.mean(a)\n",
        "    return acc"
      ],
      "execution_count": null,
      "outputs": []
    },
    {
      "cell_type": "code",
      "metadata": {
        "scrolled": false,
        "id": "-kqAlqZqqo8Z"
      },
      "source": [
        "score1 = run(g, O, mi, sigma2, k0)\n",
        "print(score1)\n",
        "score1 = sorted(score1.items(), key=lambda kv: kv[1], reverse=True)"
      ],
      "execution_count": null,
      "outputs": []
    },
    {
      "cell_type": "code",
      "metadata": {
        "id": "GAZmpiL2qo8Z"
      },
      "source": [
        "accuracy([47,22,48,50,54],[54,50,68],score1)"
      ],
      "execution_count": null,
      "outputs": []
    },
    {
      "cell_type": "code",
      "metadata": {
        "id": "gcNk4Avmqo8Z"
      },
      "source": [
        ""
      ],
      "execution_count": null,
      "outputs": []
    }
  ]
}